{
 "cells": [
  {
   "cell_type": "code",
   "execution_count": null,
   "metadata": {},
   "outputs": [],
   "source": [
    "import numpy as np\n",
    "from numpy.random import default_rng\n",
    "\n",
    "from part1_nn_lib import MultiLayerNetwork, Trainer, Preprocessor"
   ]
  },
  {
   "cell_type": "code",
   "execution_count": null,
   "metadata": {},
   "outputs": [],
   "source": [
    "## Load data\n",
    "\n",
    "datapath = \"iris.dat\"\n",
    "\n",
    "if not os.path.exists(datapath):\n",
    "    print(f\"ERROR: Datapath {datapath} not found\")\n",
    "\n",
    "data = np.loadtxt(\"iris.dat\")\n",
    "x = data[:, :4]\n",
    "y = data[:, 4:]"
   ]
  },
  {
   "cell_type": "code",
   "execution_count": null,
   "metadata": {},
   "outputs": [],
   "source": [
    "## Split data set\n",
    "\n",
    "test_proportion = 0.2\n",
    "\n",
    "random_generator = default_rng(100)\n",
    "shuffled_indices = random_generator.permutation(len(x))\n",
    "n_test = round(len(x) * test_proportion)\n",
    "n_train = len(x) - n_test\n",
    "x_train = x[shuffled_indices[:n_train]]\n",
    "y_train = y[shuffled_indices[:n_train]]\n",
    "x_test = x[shuffled_indices[n_train:]]\n",
    "y_test = y[shuffled_indices[n_train:]]"
   ]
  },
  {
   "cell_type": "code",
   "execution_count": null,
   "metadata": {},
   "outputs": [],
   "source": [
    "## Pre-processing\n",
    "\n",
    "preprocessor = Preprocessor(x_train)\n",
    "x_train_norm = preprocessor.apply(x_train)\n",
    "x_test_norm = preprocessor.apply(x_test)"
   ]
  },
  {
   "cell_type": "code",
   "execution_count": null,
   "metadata": {},
   "outputs": [],
   "source": [
    "## Network\n",
    "\n",
    "input_dim = 4\n",
    "neurons = [2, 3, 3]\n",
    "activations = [\"relu\", \"sigmoid\", \"identity\"]\n",
    "network = MultiLayerNetwork(input_dim, neurons, activations)"
   ]
  },
  {
   "cell_type": "code",
   "execution_count": null,
   "metadata": {},
   "outputs": [],
   "source": [
    "## Training\n",
    "\n",
    "trainer = Trainer(\n",
    "    network=network,\n",
    "    batch_size=5,\n",
    "    nb_epoch=1000,\n",
    "    learning_rate=0.01,\n",
    "    loss_fun=\"cross_entropy\",\n",
    "    shuffle_flag=True,\n",
    ")\n",
    "\n",
    "trainer.train(x_train_norm, y_train)"
   ]
  },
  {
   "cell_type": "code",
   "execution_count": null,
   "metadata": {},
   "outputs": [],
   "source": [
    "## Evaluate\n",
    "\n",
    "print(\"Train loss = \", trainer.eval_loss(x_train_norm, y_train))\n",
    "print(\"Test loss = \", trainer.eval_loss(x_test_norm, y_test))\n",
    "\n",
    "predictions = network(x_test_norm).argmax(axis=1).squeeze()\n",
    "targets = y_test.argmax(axis=1).squeeze()\n",
    "accuracy = (predictions == targets).mean()\n",
    "print(\"Test accuracy: {}\".format(accuracy))"
   ]
  }
 ],
 "metadata": {
  "interpreter": {
   "hash": "916dbcbb3f70747c44a77c7bcd40155683ae19c65e1c03b4aa3499c5328201f1"
  },
  "kernelspec": {
   "display_name": "Python 3.8.10 64-bit",
   "name": "python3"
  },
  "language_info": {
   "codemirror_mode": {
    "name": "ipython",
    "version": 3
   },
   "file_extension": ".py",
   "mimetype": "text/x-python",
   "name": "python",
   "nbconvert_exporter": "python",
   "pygments_lexer": "ipython3",
   "version": "3.8.10"
  },
  "orig_nbformat": 4
 },
 "nbformat": 4,
 "nbformat_minor": 2
}
