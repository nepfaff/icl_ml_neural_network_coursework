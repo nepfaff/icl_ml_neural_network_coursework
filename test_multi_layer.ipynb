{
 "cells": [
  {
   "cell_type": "code",
   "execution_count": 1,
   "metadata": {},
   "outputs": [],
   "source": [
    "import numpy as np\n",
    "from numpy.random import default_rng\n",
    "import matplotlib.pyplot as plt\n",
    "\n",
    "from part1_nn_lib import LinearLayer, MultiLayerNetwork"
   ]
  },
  {
   "cell_type": "code",
   "execution_count": 2,
   "metadata": {},
   "outputs": [
    {
     "name": "stdout",
     "output_type": "stream",
     "text": [
      "--- Epoch 0 ---\n",
      "MSE: 14167.261602373164\n",
      "--- Epoch 20000 ---\n",
      "MSE: 83.74663531405909\n",
      "--- Epoch 40000 ---\n",
      "MSE: 49.82618167614312\n",
      "--- Epoch 60000 ---\n",
      "MSE: 37.531576136742764\n",
      "--- Epoch 80000 ---\n",
      "MSE: 33.07534665989168\n",
      "\n",
      "Results:\n",
      "MSE: 31.460214868308164\n"
     ]
    },
    {
     "data": {
      "image/png": "[encoded data removed]",
      "text/plain": [
       "<Figure size 432x288 with 1 Axes>"
      ]
     },
     "metadata": {
      "needs_background": "light"
     },
     "output_type": "display_data"
    }
   ],
   "source": [
    "## y = a*x + b\n",
    "\n",
    "# Modify these\n",
    "epochs = 100000\n",
    "number_of_epoch_results_to_print = 5\n",
    "learning_rate = 1e-4\n",
    "a = 2.5\n",
    "b = 25\n",
    "\n",
    "# Create linear data set with some noise\n",
    "x = np.arange(0, 100)\n",
    "noise = np.random.uniform(-10, 10, x.size)\n",
    "y_gold = a * x + b + noise\n",
    "plt.scatter(x, y_gold, c=\"b\")\n",
    "\n",
    "# Ensure that x and y have the expected format\n",
    "x = x[:, np.newaxis]\n",
    "y_gold = y_gold[:, np.newaxis]\n",
    "\n",
    "# Define multi layer neuron setup \n",
    "input_dim = 1\n",
    "neurons = np.array([1])\n",
    "activations = np.array([\"identity\"])\n",
    "\n",
    "multi_layers = MultiLayerNetwork(input_dim, neurons, activations)\n",
    "\n",
    "for epoch in range(epochs):\n",
    "    y_pred = multi_layers.forward(x)\n",
    "    grad_mse_wrt_ouputs = (y_pred - y_gold) / len(y_gold)\n",
    "    grad_loss_wrt_inputs = multi_layers.backward(grad_mse_wrt_ouputs)\n",
    "    multi_layers.update_params(learning_rate)\n",
    "\n",
    "    if epoch % (epochs//number_of_epoch_results_to_print) == 0:\n",
    "        print(f\"--- Epoch {epoch} ---\")\n",
    "        print(\"MSE:\", np.square(y_pred - y_gold).mean())\n",
    "       # print(\"W:\", layer._W, \"b:\", layer._b)\n",
    "\n",
    "print(\"\\nResults:\")\n",
    "print(\"MSE:\", np.square(y_pred - y_gold).mean())\n",
    "#print(\"a:\", layer._W, \"b:\", layer._b)\n",
    "\n",
    "# Plot best fit line on top of data\n",
    "plt.scatter(x, y_pred, c=\"r\")\n",
    "plt.show()"
   ]
  },
  {
   "cell_type": "code",
   "execution_count": 3,
   "metadata": {},
   "outputs": [
    {
     "name": "stdout",
     "output_type": "stream",
     "text": [
      "--- Epoch 0 ---\n",
      "MSE: 699.2442401572521\n",
      "W: [[1.16237485]\n",
      " [1.47017581]] b: [0.02486918]\n",
      "--- Epoch 20000 ---\n",
      "MSE: 1.274847227255832\n",
      "W: [[4.00889358]\n",
      " [2.5484858 ]] b: [1.20685575]\n",
      "--- Epoch 40000 ---\n",
      "MSE: 1.273942756081996\n",
      "W: [[4.00135901]\n",
      " [2.54337129]] b: [1.286058]\n",
      "--- Epoch 60000 ---\n",
      "MSE: 1.2739345316831343\n",
      "W: [[4.00064053]\n",
      " [2.54288358]] b: [1.29361053]\n",
      "--- Epoch 80000 ---\n",
      "MSE: 1.2739344568982882\n",
      "W: [[4.00057202]\n",
      " [2.54283708]] b: [1.29433072]\n",
      "\n",
      "Results:\n",
      "MSE (training set): 1.2739344562182677\n",
      "MSE (test set): 1.0374361966494121\n",
      "W: [[4.00056548]\n",
      " [2.54283264]] b: [1.29439939]\n"
     ]
    }
   ],
   "source": [
    "## 2 input features (3 including bias), one output feature\n",
    "\n",
    "# Modify these\n",
    "epochs = 100000\n",
    "number_of_epoch_results_to_print = 5\n",
    "learning_rate = 1e-3\n",
    "weights = np.array([4, 2.5, 1.5])\n",
    "\n",
    "\n",
    "# Create random data\n",
    "seed = 60012\n",
    "rg = default_rng(seed)\n",
    "n_samples = 100\n",
    "x = rg.random((n_samples, 2)) * 10.0\n",
    "x = np.hstack((x, np.ones((n_samples, 1))))\n",
    "y = np.matmul(x, weights)\n",
    "\n",
    "# Add noise to y\n",
    "noise = rg.standard_normal(y.shape)\n",
    "y = y + noise\n",
    "\n",
    "# Split data set into train and test\n",
    "x_train = np.array(x[:80, :2])\n",
    "y_train = y[:80, np.newaxis]\n",
    "x_test = x[80:, :2]\n",
    "y_test = y[80:, np.newaxis]\n",
    "\n",
    "layer = LinearLayer(n_in=2, n_out=1)\n",
    "for epoch in range(epochs):\n",
    "    y_pred = layer(x_train)\n",
    "    grad_sse_wrt_ouputs = (y_pred - y_train) / len(y_train)\n",
    "    grad_loss_wrt_inputs = layer.backward(grad_sse_wrt_ouputs)\n",
    "    layer.update_params(learning_rate)\n",
    "\n",
    "    if epoch % (epochs//number_of_epoch_results_to_print) == 0:\n",
    "        print(f\"--- Epoch {epoch} ---\")\n",
    "        print(\"MSE:\", np.square(y_pred - y_train).mean())\n",
    "        print(\"W:\", layer._W, \"b:\", layer._b)\n",
    "\n",
    "print(\"\\nResults:\")\n",
    "print(\"MSE (training set):\", np.square(layer(x_train) - y_train).mean())\n",
    "print(\"MSE (test set):\", np.square(layer(x_test) - y_test).mean())\n",
    "print(\"W:\", layer._W, \"b:\", layer._b)"
   ]
  }
 ],
 "metadata": {
  "interpreter": {
   "hash": "916dbcbb3f70747c44a77c7bcd40155683ae19c65e1c03b4aa3499c5328201f1"
  },
  "kernelspec": {
   "display_name": "Python 3.8.10 64-bit",
   "name": "python3"
  },
  "language_info": {
   "codemirror_mode": {
    "name": "ipython",
    "version": 3
   },
   "file_extension": ".py",
   "mimetype": "text/x-python",
   "name": "python",
   "nbconvert_exporter": "python",
   "pygments_lexer": "ipython3",
   "version": "3.8.10"
  },
  "orig_nbformat": 4
 },
 "nbformat": 4,
 "nbformat_minor": 2
}
