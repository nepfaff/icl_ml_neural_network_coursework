{
 "cells": [
  {
   "cell_type": "code",
   "execution_count": null,
   "metadata": {},
   "outputs": [],
   "source": [
    "import numpy as np\n",
    "from numpy.random import default_rng\n",
    "import matplotlib.pyplot as plt\n",
    "\n",
    "from part1_nn_lib import LinearLayer, MultiLayerNetwork"
   ]
  },
  {
   "cell_type": "markdown",
   "metadata": {},
   "source": [
    "Linear layer data set"
   ]
  },
  {
   "cell_type": "code",
   "execution_count": null,
   "metadata": {},
   "outputs": [],
   "source": [
    "# Modify these\n",
    "epochs = 100000\n",
    "number_of_epoch_results_to_print = 5\n",
    "learning_rate = 1e-4\n",
    "a = 2.5\n",
    "b = 25\n",
    "\n",
    "# Create linear data set with some noise\n",
    "x = np.arange(0, 100)\n",
    "noise = np.random.uniform(-10, 10, x.size)\n",
    "y_gold = a * x + b + noise\n",
    "plt.scatter(x, y_gold, c=\"b\")\n",
    "\n",
    "# Ensure that x and y have the expected format\n",
    "x = x[:, np.newaxis]\n",
    "y_gold = y_gold[:, np.newaxis]"
   ]
  },
  {
   "cell_type": "markdown",
   "metadata": {},
   "source": [
    "Multi layer data set"
   ]
  },
  {
   "cell_type": "code",
   "execution_count": null,
   "metadata": {},
   "outputs": [],
   "source": [
    "# Generate a toy dataset\n",
    "# generating a random dataset from 4*x_1 + 2.5*x_2 + 1.5\n",
    "# and adding some noise to the output\n",
    "\n",
    "seed = 60012\n",
    "rg = default_rng(seed)\n",
    "weights = np.array([4, 2.5, 1.5])\n",
    "n_samples = 100\n",
    "x = rg.random((n_samples, 2))*10.0\n",
    "x = np.hstack((x, np.ones((n_samples, 1))))\n",
    "y = np.matmul(x, weights)\n",
    "\n",
    "# add noise to y\n",
    "# comment these out if you want to work with a perfectly clean dataset\n",
    "noise = rg.standard_normal(y.shape)\n",
    "y = y + noise \n",
    "\n",
    "x_train = x[:80, :2]\n",
    "y_train = y[:80]\n",
    "x_test = x[80:, :2]\n",
    "y_test = y[80:]\n",
    "\n",
    "# Plot the training set\n",
    "fig = plt.figure()\n",
    "ax = fig.gca(projection='3d') # enable 3D\n",
    "ax.scatter(x_train[:,0], x_train[:,1], y_train, c=\"red\")\n",
    "ax.set_xlabel(\"x1\")\n",
    "ax.set_ylabel(\"x2\")\n",
    "ax.set_zlabel('y')\n",
    "\n",
    "# Plot the plane - you are aiming for your algorithm to recover this plane\n",
    "fig = plt.figure()\n",
    "ax = fig.gca(projection='3d') # enable 3D\n",
    "x_plane = np.linspace(0,10,10)\n",
    "y_plane = np.linspace(0,10,10)\n",
    "x_plane, y_plane = np.meshgrid(x_plane, y_plane)\n",
    "z = weights[0] * x_plane + weights[1] * y_plane + weights[2]\n",
    "surf = ax.plot_surface(x_plane, y_plane, z)\n",
    "\n",
    "plt.show()\n"
   ]
  },
  {
   "cell_type": "code",
   "execution_count": null,
   "metadata": {},
   "outputs": [],
   "source": [
    "\n",
    "\n",
    "\n",
    "input_dim = 2\n",
    "neurons = np.array([10, 10, 1])\n",
    "activations = np.array([\"identity\", \"identity\", \"identity\",\"identity\"])\n",
    "\n",
    "multi_layers = MultiLayerNetwork(input_dim, neurons, activations)\n",
    "\n",
    "for epoch in range(epochs):\n",
    "    y_pred = multi_layers.forward(x_test)\n",
    "    grad_mse_wrt_ouputs = (y_pred - y_test.reshape((20,1))) / len(y_test)\n",
    "    grad_loss_wrt_inputs = multi_layers.backward(grad_mse_wrt_ouputs)\n",
    "    multi_layers.update_params(learning_rate)\n",
    "\n",
    "    if epoch % (epochs//number_of_epoch_results_to_print) == 0:\n",
    "        print(f\"--- Epoch {epoch} ---\")\n",
    "        print(\"MSE:\", mse(y_test, y_pred))\n",
    "       # print(\"W:\", layer._W, \"b:\", layer._b)\n"
   ]
  },
  {
   "cell_type": "markdown",
   "metadata": {},
   "source": []
  }
 ],
 "metadata": {
  "interpreter": {
   "hash": "916dbcbb3f70747c44a77c7bcd40155683ae19c65e1c03b4aa3499c5328201f1"
  },
  "kernelspec": {
   "display_name": "Python 3.8.10 64-bit",
   "name": "python3"
  },
  "language_info": {
   "codemirror_mode": {
    "name": "ipython",
    "version": 3
   },
   "file_extension": ".py",
   "mimetype": "text/x-python",
   "name": "python",
   "nbconvert_exporter": "python",
   "pygments_lexer": "ipython3",
   "version": "3.8.10"
  },
  "orig_nbformat": 4
 },
 "nbformat": 4,
 "nbformat_minor": 2
}
