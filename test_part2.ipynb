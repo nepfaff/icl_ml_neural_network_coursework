{
 "cells": [
  {
   "cell_type": "code",
   "execution_count": null,
   "metadata": {},
   "outputs": [],
   "source": [
    "import torch\n",
    "import numpy as np\n",
    "from numpy.random import default_rng\n",
    "import matplotlib.pyplot as plt\n",
    "\n",
    "from part2_house_value_regression import Regressor"
   ]
  },
  {
   "cell_type": "code",
   "execution_count": null,
   "metadata": {},
   "outputs": [],
   "source": [
    "## y = a*x + b\n",
    "\n",
    "# Modify these\n",
    "epochs = 10000\n",
    "number_of_epoch_results_to_print = 5\n",
    "learning_rate = 5e-6\n",
    "neurons = [5, 5, 1]\n",
    "activations = [\"identity\", \"identity\", \"identity\"]\n",
    "a = 2.5\n",
    "b = 25\n",
    "\n",
    "# Create linear data set with some noise\n",
    "x = np.arange(0, 100)\n",
    "noise = np.random.uniform(-10, 10, x.size)\n",
    "y_gold = a * x + b + noise\n",
    "plt.scatter(x, y_gold, c=\"b\")\n",
    "\n",
    "# Ensure that x and y have the expected format\n",
    "x = x[:, np.newaxis]\n",
    "y_gold = y_gold[:, np.newaxis]\n",
    "\n",
    "regressor = Regressor(\n",
    "    x,\n",
    "    nb_epoch=epochs,\n",
    "    batch_size=10,\n",
    "    learning_rate=learning_rate,\n",
    "    neurons=neurons,\n",
    "    activations=activations,\n",
    "    optimizer_type=\"sgd\"\n",
    ")\n",
    "regressor.fit(x, y_gold, log=True)\n",
    "y_pred = regressor.predict(x).detach().numpy()\n",
    "\n",
    "print(\"\\nResults:\")\n",
    "print(\"MSE:\", np.square(y_pred - y_gold).mean())\n",
    "regressor.score(x, y_gold)\n",
    "\n",
    "# Plot best fit line on top of data\n",
    "plt.scatter(x, y_pred, c=\"r\")\n",
    "plt.show()"
   ]
  }
 ],
 "metadata": {
  "interpreter": {
   "hash": "916dbcbb3f70747c44a77c7bcd40155683ae19c65e1c03b4aa3499c5328201f1"
  },
  "kernelspec": {
   "display_name": "Python 3.8.10 64-bit",
   "name": "python3"
  },
  "language_info": {
   "codemirror_mode": {
    "name": "ipython",
    "version": 3
   },
   "file_extension": ".py",
   "mimetype": "text/x-python",
   "name": "python",
   "nbconvert_exporter": "python",
   "pygments_lexer": "ipython3",
   "version": "3.8.10"
  },
  "orig_nbformat": 4
 },
 "nbformat": 4,
 "nbformat_minor": 2
}
