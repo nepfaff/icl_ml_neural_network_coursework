{
 "cells": [
  {
   "cell_type": "code",
   "execution_count": null,
   "metadata": {},
   "outputs": [],
   "source": [
    "import torch\n",
    "import numpy as np\n",
    "from numpy.random import default_rng\n",
    "import matplotlib.pyplot as plt\n",
    "import pandas as pd\n",
    "\n",
    "from part2_house_value_regression import Regressor"
   ]
  },
  {
   "cell_type": "code",
   "execution_count": null,
   "metadata": {},
   "outputs": [],
   "source": [
    "## Housing data without validation (training on entire dataset)\n",
    "\n",
    "# Modify these\n",
    "epochs = 100\n",
    "number_of_epoch_results_to_print = 10\n",
    "learning_rate = 1e-2\n",
    "neurons = [30, 15]\n",
    "activations = [\"relu\", \"relu\"]\n",
    "\n",
    "# Load data\n",
    "output_label = \"median_house_value\"\n",
    "data = pd.read_csv(\"housing.csv\")\n",
    "\n",
    "# Spliting input and output\n",
    "x_train = data.loc[:, data.columns != output_label]\n",
    "y_train = data.loc[:, [output_label]]\n",
    "\n",
    "regressor = Regressor(\n",
    "    x_train,\n",
    "    nb_epoch=epochs,\n",
    "    batch_size=2000,\n",
    "    learning_rate=learning_rate,\n",
    "    neurons=neurons,\n",
    "    activations=activations,\n",
    "    optimizer_type=\"sgd\",\n",
    ")\n",
    "regressor.fit(\n",
    "    x_train,\n",
    "    y_train,\n",
    "    log=True,\n",
    "    number_of_logs=number_of_epoch_results_to_print\n",
    ")\n",
    "y_pred = regressor.predict(x_train)\n",
    "\n",
    "print(\"\\nResults:\")\n",
    "print(\"MSE:\", np.square(y_pred - y_train.values).mean())\n",
    "print(\"Regressor error (score method):\", regressor.score(x_train, y_train))"
   ]
  }
 ],
 "metadata": {
  "interpreter": {
   "hash": "916dbcbb3f70747c44a77c7bcd40155683ae19c65e1c03b4aa3499c5328201f1"
  },
  "kernelspec": {
   "display_name": "Python 3.8.10 64-bit",
   "name": "python3"
  },
  "language_info": {
   "codemirror_mode": {
    "name": "ipython",
    "version": 3
   },
   "file_extension": ".py",
   "mimetype": "text/x-python",
   "name": "python",
   "nbconvert_exporter": "python",
   "pygments_lexer": "ipython3",
   "version": "3.8.10"
  },
  "orig_nbformat": 4
 },
 "nbformat": 4,
 "nbformat_minor": 2
}
