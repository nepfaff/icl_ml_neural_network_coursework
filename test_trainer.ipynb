{
 "cells": [
  {
   "cell_type": "code",
   "execution_count": null,
   "metadata": {},
   "outputs": [],
   "source": [
    "import numpy as np\n",
    "from numpy.random import default_rng\n",
    "import matplotlib.pyplot as plt\n",
    "\n",
    "from part1_nn_lib import MultiLayerNetwork, Trainer"
   ]
  },
  {
   "cell_type": "code",
   "execution_count": null,
   "metadata": {},
   "outputs": [],
   "source": [
    "## y = a*x + b\n",
    "\n",
    "# Modify these\n",
    "epochs = 10000\n",
    "number_of_epoch_results_to_print = 5\n",
    "learning_rate = 1e-5\n",
    "a = 2.5\n",
    "b = 25\n",
    "\n",
    "# Create linear data set with some noise\n",
    "x = np.arange(0, 100)\n",
    "noise = np.random.uniform(-10, 10, x.size)\n",
    "y = a * x + b + noise\n",
    "plt.scatter(x, y, c=\"b\")\n",
    "\n",
    "# Ensure that x and y have the expected format\n",
    "x = x[:, np.newaxis]\n",
    "y = y[:, np.newaxis]\n",
    "\n",
    "# Create network\n",
    "input_dim = 1\n",
    "neurons = np.array([5, 5, 1])\n",
    "activations = np.array([\"identity\", \"identity\", \"identity\"])\n",
    "network = MultiLayerNetwork(input_dim, neurons, activations)\n",
    "\n",
    "# Create trainer\n",
    "trainer = Trainer(\n",
    "    network=network,\n",
    "    batch_size=10,\n",
    "    nb_epoch=epochs,\n",
    "    learning_rate=learning_rate,\n",
    "    shuffle_flag=True,\n",
    "    loss_fun=\"mse\"\n",
    ")\n",
    "\n",
    "trainer.train(x, y)\n",
    "print(\"Final loss:\", trainer.eval_loss(x, y))\n",
    "\n",
    "# Plot best fit line on top of data\n",
    "plt.scatter(x, network(x), c=\"r\")\n",
    "plt.show()"
   ]
  }
 ],
 "metadata": {
  "interpreter": {
   "hash": "916dbcbb3f70747c44a77c7bcd40155683ae19c65e1c03b4aa3499c5328201f1"
  },
  "kernelspec": {
   "display_name": "Python 3.8.10 64-bit",
   "name": "python3"
  },
  "language_info": {
   "codemirror_mode": {
    "name": "ipython",
    "version": 3
   },
   "file_extension": ".py",
   "mimetype": "text/x-python",
   "name": "python",
   "nbconvert_exporter": "python",
   "pygments_lexer": "ipython3",
   "version": "3.8.10"
  },
  "orig_nbformat": 4
 },
 "nbformat": 4,
 "nbformat_minor": 2
}
